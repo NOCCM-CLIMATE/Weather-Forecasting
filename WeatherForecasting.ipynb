{
 "cells": [
  {
   "cell_type": "code",
   "execution_count": 364,
   "metadata": {},
   "outputs": [],
   "source": [
    "import pandas as pd\n",
    "import seaborn as sn\n",
    "from sklearn.preprocessing import LabelEncoder, OneHotEncoder,MinMaxScaler\n",
    "from keras.models import Sequential \n",
    "from keras.layers import Dense \n",
    "from keras.layers import LSTM \n",
    "from sklearn.metrics import mean_squared_error"
   ]
  },
  {
   "cell_type": "code",
   "execution_count": 365,
   "metadata": {},
   "outputs": [],
   "source": [
    "from matplotlib import pyplot\n",
    "import numpy as np"
   ]
  },
  {
   "cell_type": "code",
   "execution_count": 366,
   "metadata": {},
   "outputs": [],
   "source": [
    "df=pd.read_csv(\"weatherHistory.csv\")"
   ]
  },
  {
   "cell_type": "code",
   "execution_count": 367,
   "metadata": {},
   "outputs": [
    {
     "name": "stdout",
     "output_type": "stream",
     "text": [
      "<class 'pandas.core.frame.DataFrame'>\n",
      "RangeIndex: 96453 entries, 0 to 96452\n",
      "Data columns (total 12 columns):\n",
      "Formatted Date              96453 non-null object\n",
      "Summary                     96453 non-null object\n",
      "Precip Type                 95936 non-null object\n",
      "Temperature (C)             96453 non-null float64\n",
      "Apparent Temperature (C)    96453 non-null float64\n",
      "Humidity                    96453 non-null float64\n",
      "Wind Speed (km/h)           96453 non-null float64\n",
      "Wind Bearing (degrees)      96453 non-null int64\n",
      "Visibility (km)             96453 non-null float64\n",
      "Loud Cover                  96453 non-null int64\n",
      "Pressure (millibars)        96453 non-null float64\n",
      "Daily Summary               96453 non-null object\n",
      "dtypes: float64(6), int64(2), object(4)\n",
      "memory usage: 8.8+ MB\n"
     ]
    }
   ],
   "source": [
    "df.info()"
   ]
  },
  {
   "cell_type": "code",
   "execution_count": 368,
   "metadata": {},
   "outputs": [
    {
     "data": {
      "text/html": [
       "<div>\n",
       "<style scoped>\n",
       "    .dataframe tbody tr th:only-of-type {\n",
       "        vertical-align: middle;\n",
       "    }\n",
       "\n",
       "    .dataframe tbody tr th {\n",
       "        vertical-align: top;\n",
       "    }\n",
       "\n",
       "    .dataframe thead th {\n",
       "        text-align: right;\n",
       "    }\n",
       "</style>\n",
       "<table border=\"1\" class=\"dataframe\">\n",
       "  <thead>\n",
       "    <tr style=\"text-align: right;\">\n",
       "      <th></th>\n",
       "      <th>Formatted Date</th>\n",
       "      <th>Summary</th>\n",
       "      <th>Precip Type</th>\n",
       "      <th>Temperature (C)</th>\n",
       "      <th>Apparent Temperature (C)</th>\n",
       "      <th>Humidity</th>\n",
       "      <th>Wind Speed (km/h)</th>\n",
       "      <th>Wind Bearing (degrees)</th>\n",
       "      <th>Visibility (km)</th>\n",
       "      <th>Loud Cover</th>\n",
       "      <th>Pressure (millibars)</th>\n",
       "      <th>Daily Summary</th>\n",
       "    </tr>\n",
       "  </thead>\n",
       "  <tbody>\n",
       "    <tr>\n",
       "      <th>0</th>\n",
       "      <td>2006-04-01 00:00:00.000 +0200</td>\n",
       "      <td>Partly Cloudy</td>\n",
       "      <td>rain</td>\n",
       "      <td>9.472222</td>\n",
       "      <td>7.388889</td>\n",
       "      <td>0.89</td>\n",
       "      <td>14.1197</td>\n",
       "      <td>251</td>\n",
       "      <td>15.8263</td>\n",
       "      <td>0</td>\n",
       "      <td>1015.13</td>\n",
       "      <td>Partly cloudy throughout the day.</td>\n",
       "    </tr>\n",
       "    <tr>\n",
       "      <th>1</th>\n",
       "      <td>2006-04-01 01:00:00.000 +0200</td>\n",
       "      <td>Partly Cloudy</td>\n",
       "      <td>rain</td>\n",
       "      <td>9.355556</td>\n",
       "      <td>7.227778</td>\n",
       "      <td>0.86</td>\n",
       "      <td>14.2646</td>\n",
       "      <td>259</td>\n",
       "      <td>15.8263</td>\n",
       "      <td>0</td>\n",
       "      <td>1015.63</td>\n",
       "      <td>Partly cloudy throughout the day.</td>\n",
       "    </tr>\n",
       "    <tr>\n",
       "      <th>2</th>\n",
       "      <td>2006-04-01 02:00:00.000 +0200</td>\n",
       "      <td>Mostly Cloudy</td>\n",
       "      <td>rain</td>\n",
       "      <td>9.377778</td>\n",
       "      <td>9.377778</td>\n",
       "      <td>0.89</td>\n",
       "      <td>3.9284</td>\n",
       "      <td>204</td>\n",
       "      <td>14.9569</td>\n",
       "      <td>0</td>\n",
       "      <td>1015.94</td>\n",
       "      <td>Partly cloudy throughout the day.</td>\n",
       "    </tr>\n",
       "    <tr>\n",
       "      <th>3</th>\n",
       "      <td>2006-04-01 03:00:00.000 +0200</td>\n",
       "      <td>Partly Cloudy</td>\n",
       "      <td>rain</td>\n",
       "      <td>8.288889</td>\n",
       "      <td>5.944444</td>\n",
       "      <td>0.83</td>\n",
       "      <td>14.1036</td>\n",
       "      <td>269</td>\n",
       "      <td>15.8263</td>\n",
       "      <td>0</td>\n",
       "      <td>1016.41</td>\n",
       "      <td>Partly cloudy throughout the day.</td>\n",
       "    </tr>\n",
       "    <tr>\n",
       "      <th>4</th>\n",
       "      <td>2006-04-01 04:00:00.000 +0200</td>\n",
       "      <td>Mostly Cloudy</td>\n",
       "      <td>rain</td>\n",
       "      <td>8.755556</td>\n",
       "      <td>6.977778</td>\n",
       "      <td>0.83</td>\n",
       "      <td>11.0446</td>\n",
       "      <td>259</td>\n",
       "      <td>15.8263</td>\n",
       "      <td>0</td>\n",
       "      <td>1016.51</td>\n",
       "      <td>Partly cloudy throughout the day.</td>\n",
       "    </tr>\n",
       "  </tbody>\n",
       "</table>\n",
       "</div>"
      ],
      "text/plain": [
       "                  Formatted Date        Summary Precip Type  Temperature (C)  \\\n",
       "0  2006-04-01 00:00:00.000 +0200  Partly Cloudy        rain         9.472222   \n",
       "1  2006-04-01 01:00:00.000 +0200  Partly Cloudy        rain         9.355556   \n",
       "2  2006-04-01 02:00:00.000 +0200  Mostly Cloudy        rain         9.377778   \n",
       "3  2006-04-01 03:00:00.000 +0200  Partly Cloudy        rain         8.288889   \n",
       "4  2006-04-01 04:00:00.000 +0200  Mostly Cloudy        rain         8.755556   \n",
       "\n",
       "   Apparent Temperature (C)  Humidity  Wind Speed (km/h)  \\\n",
       "0                  7.388889      0.89            14.1197   \n",
       "1                  7.227778      0.86            14.2646   \n",
       "2                  9.377778      0.89             3.9284   \n",
       "3                  5.944444      0.83            14.1036   \n",
       "4                  6.977778      0.83            11.0446   \n",
       "\n",
       "   Wind Bearing (degrees)  Visibility (km)  Loud Cover  Pressure (millibars)  \\\n",
       "0                     251          15.8263           0               1015.13   \n",
       "1                     259          15.8263           0               1015.63   \n",
       "2                     204          14.9569           0               1015.94   \n",
       "3                     269          15.8263           0               1016.41   \n",
       "4                     259          15.8263           0               1016.51   \n",
       "\n",
       "                       Daily Summary  \n",
       "0  Partly cloudy throughout the day.  \n",
       "1  Partly cloudy throughout the day.  \n",
       "2  Partly cloudy throughout the day.  \n",
       "3  Partly cloudy throughout the day.  \n",
       "4  Partly cloudy throughout the day.  "
      ]
     },
     "execution_count": 368,
     "metadata": {},
     "output_type": "execute_result"
    }
   ],
   "source": [
    "df.head()"
   ]
  },
  {
   "cell_type": "code",
   "execution_count": 369,
   "metadata": {},
   "outputs": [],
   "source": [
    "df=df.drop(['Daily Summary'],axis=1)"
   ]
  },
  {
   "cell_type": "code",
   "execution_count": 370,
   "metadata": {},
   "outputs": [
    {
     "data": {
      "text/plain": [
       "Formatted Date                0\n",
       "Summary                       0\n",
       "Precip Type                 517\n",
       "Temperature (C)               0\n",
       "Apparent Temperature (C)      0\n",
       "Humidity                      0\n",
       "Wind Speed (km/h)             0\n",
       "Wind Bearing (degrees)        0\n",
       "Visibility (km)               0\n",
       "Loud Cover                    0\n",
       "Pressure (millibars)          0\n",
       "dtype: int64"
      ]
     },
     "execution_count": 370,
     "metadata": {},
     "output_type": "execute_result"
    }
   ],
   "source": [
    "df.isnull().sum()"
   ]
  },
  {
   "cell_type": "code",
   "execution_count": 371,
   "metadata": {},
   "outputs": [],
   "source": [
    "df.rename(columns={'Precip Type':'PrecipType'},inplace=True)"
   ]
  },
  {
   "cell_type": "code",
   "execution_count": 372,
   "metadata": {},
   "outputs": [
    {
     "name": "stderr",
     "output_type": "stream",
     "text": [
      "D:\\Anaconda3\\lib\\site-packages\\ipykernel_launcher.py:1: SettingWithCopyWarning: \n",
      "A value is trying to be set on a copy of a slice from a DataFrame\n",
      "\n",
      "See the caveats in the documentation: http://pandas.pydata.org/pandas-docs/stable/indexing.html#indexing-view-versus-copy\n",
      "  \"\"\"Entry point for launching an IPython kernel.\n",
      "D:\\Anaconda3\\lib\\site-packages\\ipykernel_launcher.py:2: SettingWithCopyWarning: \n",
      "A value is trying to be set on a copy of a slice from a DataFrame\n",
      "\n",
      "See the caveats in the documentation: http://pandas.pydata.org/pandas-docs/stable/indexing.html#indexing-view-versus-copy\n",
      "  \n"
     ]
    }
   ],
   "source": [
    "df.PrecipType[df.PrecipType == 'rain'] = 0\n",
    "df.PrecipType[df.PrecipType == 'snow'] = 1"
   ]
  },
  {
   "cell_type": "code",
   "execution_count": 373,
   "metadata": {},
   "outputs": [
    {
     "data": {
      "text/plain": [
       "Formatted Date                0\n",
       "Summary                       0\n",
       "PrecipType                  517\n",
       "Temperature (C)               0\n",
       "Apparent Temperature (C)      0\n",
       "Humidity                      0\n",
       "Wind Speed (km/h)             0\n",
       "Wind Bearing (degrees)        0\n",
       "Visibility (km)               0\n",
       "Loud Cover                    0\n",
       "Pressure (millibars)          0\n",
       "dtype: int64"
      ]
     },
     "execution_count": 373,
     "metadata": {},
     "output_type": "execute_result"
    }
   ],
   "source": [
    "df.isnull().sum()"
   ]
  },
  {
   "cell_type": "code",
   "execution_count": 374,
   "metadata": {},
   "outputs": [
    {
     "data": {
      "text/html": [
       "<div>\n",
       "<style scoped>\n",
       "    .dataframe tbody tr th:only-of-type {\n",
       "        vertical-align: middle;\n",
       "    }\n",
       "\n",
       "    .dataframe tbody tr th {\n",
       "        vertical-align: top;\n",
       "    }\n",
       "\n",
       "    .dataframe thead th {\n",
       "        text-align: right;\n",
       "    }\n",
       "</style>\n",
       "<table border=\"1\" class=\"dataframe\">\n",
       "  <thead>\n",
       "    <tr style=\"text-align: right;\">\n",
       "      <th></th>\n",
       "      <th>Formatted Date</th>\n",
       "      <th>Summary</th>\n",
       "      <th>PrecipType</th>\n",
       "      <th>Temperature (C)</th>\n",
       "      <th>Apparent Temperature (C)</th>\n",
       "      <th>Humidity</th>\n",
       "      <th>Wind Speed (km/h)</th>\n",
       "      <th>Wind Bearing (degrees)</th>\n",
       "      <th>Visibility (km)</th>\n",
       "      <th>Loud Cover</th>\n",
       "      <th>Pressure (millibars)</th>\n",
       "    </tr>\n",
       "  </thead>\n",
       "  <tbody>\n",
       "    <tr>\n",
       "      <th>0</th>\n",
       "      <td>2006-04-01 00:00:00.000 +0200</td>\n",
       "      <td>Partly Cloudy</td>\n",
       "      <td>0</td>\n",
       "      <td>9.472222</td>\n",
       "      <td>7.388889</td>\n",
       "      <td>0.89</td>\n",
       "      <td>14.1197</td>\n",
       "      <td>251</td>\n",
       "      <td>15.8263</td>\n",
       "      <td>0</td>\n",
       "      <td>1015.13</td>\n",
       "    </tr>\n",
       "    <tr>\n",
       "      <th>1</th>\n",
       "      <td>2006-04-01 01:00:00.000 +0200</td>\n",
       "      <td>Partly Cloudy</td>\n",
       "      <td>0</td>\n",
       "      <td>9.355556</td>\n",
       "      <td>7.227778</td>\n",
       "      <td>0.86</td>\n",
       "      <td>14.2646</td>\n",
       "      <td>259</td>\n",
       "      <td>15.8263</td>\n",
       "      <td>0</td>\n",
       "      <td>1015.63</td>\n",
       "    </tr>\n",
       "    <tr>\n",
       "      <th>2</th>\n",
       "      <td>2006-04-01 02:00:00.000 +0200</td>\n",
       "      <td>Mostly Cloudy</td>\n",
       "      <td>0</td>\n",
       "      <td>9.377778</td>\n",
       "      <td>9.377778</td>\n",
       "      <td>0.89</td>\n",
       "      <td>3.9284</td>\n",
       "      <td>204</td>\n",
       "      <td>14.9569</td>\n",
       "      <td>0</td>\n",
       "      <td>1015.94</td>\n",
       "    </tr>\n",
       "    <tr>\n",
       "      <th>3</th>\n",
       "      <td>2006-04-01 03:00:00.000 +0200</td>\n",
       "      <td>Partly Cloudy</td>\n",
       "      <td>0</td>\n",
       "      <td>8.288889</td>\n",
       "      <td>5.944444</td>\n",
       "      <td>0.83</td>\n",
       "      <td>14.1036</td>\n",
       "      <td>269</td>\n",
       "      <td>15.8263</td>\n",
       "      <td>0</td>\n",
       "      <td>1016.41</td>\n",
       "    </tr>\n",
       "    <tr>\n",
       "      <th>4</th>\n",
       "      <td>2006-04-01 04:00:00.000 +0200</td>\n",
       "      <td>Mostly Cloudy</td>\n",
       "      <td>0</td>\n",
       "      <td>8.755556</td>\n",
       "      <td>6.977778</td>\n",
       "      <td>0.83</td>\n",
       "      <td>11.0446</td>\n",
       "      <td>259</td>\n",
       "      <td>15.8263</td>\n",
       "      <td>0</td>\n",
       "      <td>1016.51</td>\n",
       "    </tr>\n",
       "  </tbody>\n",
       "</table>\n",
       "</div>"
      ],
      "text/plain": [
       "                  Formatted Date        Summary PrecipType  Temperature (C)  \\\n",
       "0  2006-04-01 00:00:00.000 +0200  Partly Cloudy          0         9.472222   \n",
       "1  2006-04-01 01:00:00.000 +0200  Partly Cloudy          0         9.355556   \n",
       "2  2006-04-01 02:00:00.000 +0200  Mostly Cloudy          0         9.377778   \n",
       "3  2006-04-01 03:00:00.000 +0200  Partly Cloudy          0         8.288889   \n",
       "4  2006-04-01 04:00:00.000 +0200  Mostly Cloudy          0         8.755556   \n",
       "\n",
       "   Apparent Temperature (C)  Humidity  Wind Speed (km/h)  \\\n",
       "0                  7.388889      0.89            14.1197   \n",
       "1                  7.227778      0.86            14.2646   \n",
       "2                  9.377778      0.89             3.9284   \n",
       "3                  5.944444      0.83            14.1036   \n",
       "4                  6.977778      0.83            11.0446   \n",
       "\n",
       "   Wind Bearing (degrees)  Visibility (km)  Loud Cover  Pressure (millibars)  \n",
       "0                     251          15.8263           0               1015.13  \n",
       "1                     259          15.8263           0               1015.63  \n",
       "2                     204          14.9569           0               1015.94  \n",
       "3                     269          15.8263           0               1016.41  \n",
       "4                     259          15.8263           0               1016.51  "
      ]
     },
     "execution_count": 374,
     "metadata": {},
     "output_type": "execute_result"
    }
   ],
   "source": [
    "df.head()"
   ]
  },
  {
   "cell_type": "code",
   "execution_count": 375,
   "metadata": {},
   "outputs": [],
   "source": [
    "df.fillna(0,inplace=True)"
   ]
  },
  {
   "cell_type": "code",
   "execution_count": 376,
   "metadata": {},
   "outputs": [
    {
     "data": {
      "text/plain": [
       "Formatted Date              0\n",
       "Summary                     0\n",
       "PrecipType                  0\n",
       "Temperature (C)             0\n",
       "Apparent Temperature (C)    0\n",
       "Humidity                    0\n",
       "Wind Speed (km/h)           0\n",
       "Wind Bearing (degrees)      0\n",
       "Visibility (km)             0\n",
       "Loud Cover                  0\n",
       "Pressure (millibars)        0\n",
       "dtype: int64"
      ]
     },
     "execution_count": 376,
     "metadata": {},
     "output_type": "execute_result"
    }
   ],
   "source": [
    "df.isnull().sum()"
   ]
  },
  {
   "cell_type": "code",
   "execution_count": 377,
   "metadata": {},
   "outputs": [],
   "source": [
    "df.rename(columns={\"Temperature (C)\":\"Temperature\",\"Wind Speed (km/h)\":\"WindSpeed\",\"Wind Bearing (degrees)\":\"WindBearings\",\"Visibility (km)\":\"Visibilty\",\"Loud Cover\":\"LoudCover\",\"Pressure (millibars)\":\"Pressure\",\"Apparent Temperature (C)\":\"ApparentTemperature\"},inplace=True)"
   ]
  },
  {
   "cell_type": "code",
   "execution_count": 378,
   "metadata": {},
   "outputs": [
    {
     "data": {
      "text/html": [
       "<div>\n",
       "<style scoped>\n",
       "    .dataframe tbody tr th:only-of-type {\n",
       "        vertical-align: middle;\n",
       "    }\n",
       "\n",
       "    .dataframe tbody tr th {\n",
       "        vertical-align: top;\n",
       "    }\n",
       "\n",
       "    .dataframe thead th {\n",
       "        text-align: right;\n",
       "    }\n",
       "</style>\n",
       "<table border=\"1\" class=\"dataframe\">\n",
       "  <thead>\n",
       "    <tr style=\"text-align: right;\">\n",
       "      <th></th>\n",
       "      <th>Formatted Date</th>\n",
       "      <th>Summary</th>\n",
       "      <th>PrecipType</th>\n",
       "      <th>Temperature</th>\n",
       "      <th>ApparentTemperature</th>\n",
       "      <th>Humidity</th>\n",
       "      <th>WindSpeed</th>\n",
       "      <th>WindBearings</th>\n",
       "      <th>Visibilty</th>\n",
       "      <th>LoudCover</th>\n",
       "      <th>Pressure</th>\n",
       "    </tr>\n",
       "  </thead>\n",
       "  <tbody>\n",
       "    <tr>\n",
       "      <th>0</th>\n",
       "      <td>2006-04-01 00:00:00.000 +0200</td>\n",
       "      <td>Partly Cloudy</td>\n",
       "      <td>0</td>\n",
       "      <td>9.472222</td>\n",
       "      <td>7.388889</td>\n",
       "      <td>0.89</td>\n",
       "      <td>14.1197</td>\n",
       "      <td>251</td>\n",
       "      <td>15.8263</td>\n",
       "      <td>0</td>\n",
       "      <td>1015.13</td>\n",
       "    </tr>\n",
       "    <tr>\n",
       "      <th>1</th>\n",
       "      <td>2006-04-01 01:00:00.000 +0200</td>\n",
       "      <td>Partly Cloudy</td>\n",
       "      <td>0</td>\n",
       "      <td>9.355556</td>\n",
       "      <td>7.227778</td>\n",
       "      <td>0.86</td>\n",
       "      <td>14.2646</td>\n",
       "      <td>259</td>\n",
       "      <td>15.8263</td>\n",
       "      <td>0</td>\n",
       "      <td>1015.63</td>\n",
       "    </tr>\n",
       "    <tr>\n",
       "      <th>2</th>\n",
       "      <td>2006-04-01 02:00:00.000 +0200</td>\n",
       "      <td>Mostly Cloudy</td>\n",
       "      <td>0</td>\n",
       "      <td>9.377778</td>\n",
       "      <td>9.377778</td>\n",
       "      <td>0.89</td>\n",
       "      <td>3.9284</td>\n",
       "      <td>204</td>\n",
       "      <td>14.9569</td>\n",
       "      <td>0</td>\n",
       "      <td>1015.94</td>\n",
       "    </tr>\n",
       "    <tr>\n",
       "      <th>3</th>\n",
       "      <td>2006-04-01 03:00:00.000 +0200</td>\n",
       "      <td>Partly Cloudy</td>\n",
       "      <td>0</td>\n",
       "      <td>8.288889</td>\n",
       "      <td>5.944444</td>\n",
       "      <td>0.83</td>\n",
       "      <td>14.1036</td>\n",
       "      <td>269</td>\n",
       "      <td>15.8263</td>\n",
       "      <td>0</td>\n",
       "      <td>1016.41</td>\n",
       "    </tr>\n",
       "    <tr>\n",
       "      <th>4</th>\n",
       "      <td>2006-04-01 04:00:00.000 +0200</td>\n",
       "      <td>Mostly Cloudy</td>\n",
       "      <td>0</td>\n",
       "      <td>8.755556</td>\n",
       "      <td>6.977778</td>\n",
       "      <td>0.83</td>\n",
       "      <td>11.0446</td>\n",
       "      <td>259</td>\n",
       "      <td>15.8263</td>\n",
       "      <td>0</td>\n",
       "      <td>1016.51</td>\n",
       "    </tr>\n",
       "  </tbody>\n",
       "</table>\n",
       "</div>"
      ],
      "text/plain": [
       "                  Formatted Date        Summary  PrecipType  Temperature  \\\n",
       "0  2006-04-01 00:00:00.000 +0200  Partly Cloudy           0     9.472222   \n",
       "1  2006-04-01 01:00:00.000 +0200  Partly Cloudy           0     9.355556   \n",
       "2  2006-04-01 02:00:00.000 +0200  Mostly Cloudy           0     9.377778   \n",
       "3  2006-04-01 03:00:00.000 +0200  Partly Cloudy           0     8.288889   \n",
       "4  2006-04-01 04:00:00.000 +0200  Mostly Cloudy           0     8.755556   \n",
       "\n",
       "   ApparentTemperature  Humidity  WindSpeed  WindBearings  Visibilty  \\\n",
       "0             7.388889      0.89    14.1197           251    15.8263   \n",
       "1             7.227778      0.86    14.2646           259    15.8263   \n",
       "2             9.377778      0.89     3.9284           204    14.9569   \n",
       "3             5.944444      0.83    14.1036           269    15.8263   \n",
       "4             6.977778      0.83    11.0446           259    15.8263   \n",
       "\n",
       "   LoudCover  Pressure  \n",
       "0          0   1015.13  \n",
       "1          0   1015.63  \n",
       "2          0   1015.94  \n",
       "3          0   1016.41  \n",
       "4          0   1016.51  "
      ]
     },
     "execution_count": 378,
     "metadata": {},
     "output_type": "execute_result"
    }
   ],
   "source": [
    "df.head()"
   ]
  },
  {
   "cell_type": "code",
   "execution_count": 379,
   "metadata": {},
   "outputs": [
    {
     "data": {
      "text/plain": [
       "array(['Partly Cloudy', 'Mostly Cloudy', 'Overcast', 'Foggy',\n",
       "       'Breezy and Mostly Cloudy', 'Clear', 'Breezy and Partly Cloudy',\n",
       "       'Breezy and Overcast', 'Humid and Mostly Cloudy',\n",
       "       'Humid and Partly Cloudy', 'Windy and Foggy', 'Windy and Overcast',\n",
       "       'Breezy and Foggy', 'Windy and Partly Cloudy', 'Breezy',\n",
       "       'Dry and Partly Cloudy', 'Windy and Mostly Cloudy',\n",
       "       'Dangerously Windy and Partly Cloudy', 'Dry', 'Windy',\n",
       "       'Humid and Overcast', 'Light Rain', 'Drizzle', 'Windy and Dry',\n",
       "       'Dry and Mostly Cloudy', 'Breezy and Dry', 'Rain'], dtype=object)"
      ]
     },
     "execution_count": 379,
     "metadata": {},
     "output_type": "execute_result"
    }
   ],
   "source": [
    "df.Summary.unique()"
   ]
  },
  {
   "cell_type": "code",
   "execution_count": 380,
   "metadata": {},
   "outputs": [
    {
     "data": {
      "text/plain": [
       "array([0], dtype=int64)"
      ]
     },
     "execution_count": 380,
     "metadata": {},
     "output_type": "execute_result"
    }
   ],
   "source": [
    "df.LoudCover.unique()"
   ]
  },
  {
   "cell_type": "code",
   "execution_count": 381,
   "metadata": {},
   "outputs": [
    {
     "data": {
      "text/html": [
       "<div>\n",
       "<style scoped>\n",
       "    .dataframe tbody tr th:only-of-type {\n",
       "        vertical-align: middle;\n",
       "    }\n",
       "\n",
       "    .dataframe tbody tr th {\n",
       "        vertical-align: top;\n",
       "    }\n",
       "\n",
       "    .dataframe thead th {\n",
       "        text-align: right;\n",
       "    }\n",
       "</style>\n",
       "<table border=\"1\" class=\"dataframe\">\n",
       "  <thead>\n",
       "    <tr style=\"text-align: right;\">\n",
       "      <th></th>\n",
       "      <th>PrecipType</th>\n",
       "      <th>Temperature</th>\n",
       "      <th>ApparentTemperature</th>\n",
       "      <th>Humidity</th>\n",
       "      <th>WindSpeed</th>\n",
       "      <th>WindBearings</th>\n",
       "      <th>Visibilty</th>\n",
       "      <th>LoudCover</th>\n",
       "      <th>Pressure</th>\n",
       "    </tr>\n",
       "  </thead>\n",
       "  <tbody>\n",
       "    <tr>\n",
       "      <th>PrecipType</th>\n",
       "      <td>1.000000</td>\n",
       "      <td>-0.562620</td>\n",
       "      <td>-0.565207</td>\n",
       "      <td>0.232113</td>\n",
       "      <td>-0.067928</td>\n",
       "      <td>-0.041984</td>\n",
       "      <td>-0.312875</td>\n",
       "      <td>NaN</td>\n",
       "      <td>0.009008</td>\n",
       "    </tr>\n",
       "    <tr>\n",
       "      <th>Temperature</th>\n",
       "      <td>-0.562620</td>\n",
       "      <td>1.000000</td>\n",
       "      <td>0.992629</td>\n",
       "      <td>-0.632255</td>\n",
       "      <td>0.008957</td>\n",
       "      <td>0.029988</td>\n",
       "      <td>0.392847</td>\n",
       "      <td>NaN</td>\n",
       "      <td>-0.005447</td>\n",
       "    </tr>\n",
       "    <tr>\n",
       "      <th>ApparentTemperature</th>\n",
       "      <td>-0.565207</td>\n",
       "      <td>0.992629</td>\n",
       "      <td>1.000000</td>\n",
       "      <td>-0.602571</td>\n",
       "      <td>-0.056650</td>\n",
       "      <td>0.029031</td>\n",
       "      <td>0.381718</td>\n",
       "      <td>NaN</td>\n",
       "      <td>-0.000219</td>\n",
       "    </tr>\n",
       "    <tr>\n",
       "      <th>Humidity</th>\n",
       "      <td>0.232113</td>\n",
       "      <td>-0.632255</td>\n",
       "      <td>-0.602571</td>\n",
       "      <td>1.000000</td>\n",
       "      <td>-0.224951</td>\n",
       "      <td>0.000735</td>\n",
       "      <td>-0.369173</td>\n",
       "      <td>NaN</td>\n",
       "      <td>0.005454</td>\n",
       "    </tr>\n",
       "    <tr>\n",
       "      <th>WindSpeed</th>\n",
       "      <td>-0.067928</td>\n",
       "      <td>0.008957</td>\n",
       "      <td>-0.056650</td>\n",
       "      <td>-0.224951</td>\n",
       "      <td>1.000000</td>\n",
       "      <td>0.103822</td>\n",
       "      <td>0.100749</td>\n",
       "      <td>NaN</td>\n",
       "      <td>-0.049263</td>\n",
       "    </tr>\n",
       "    <tr>\n",
       "      <th>WindBearings</th>\n",
       "      <td>-0.041984</td>\n",
       "      <td>0.029988</td>\n",
       "      <td>0.029031</td>\n",
       "      <td>0.000735</td>\n",
       "      <td>0.103822</td>\n",
       "      <td>1.000000</td>\n",
       "      <td>0.047594</td>\n",
       "      <td>NaN</td>\n",
       "      <td>-0.011651</td>\n",
       "    </tr>\n",
       "    <tr>\n",
       "      <th>Visibilty</th>\n",
       "      <td>-0.312875</td>\n",
       "      <td>0.392847</td>\n",
       "      <td>0.381718</td>\n",
       "      <td>-0.369173</td>\n",
       "      <td>0.100749</td>\n",
       "      <td>0.047594</td>\n",
       "      <td>1.000000</td>\n",
       "      <td>NaN</td>\n",
       "      <td>0.059818</td>\n",
       "    </tr>\n",
       "    <tr>\n",
       "      <th>LoudCover</th>\n",
       "      <td>NaN</td>\n",
       "      <td>NaN</td>\n",
       "      <td>NaN</td>\n",
       "      <td>NaN</td>\n",
       "      <td>NaN</td>\n",
       "      <td>NaN</td>\n",
       "      <td>NaN</td>\n",
       "      <td>NaN</td>\n",
       "      <td>NaN</td>\n",
       "    </tr>\n",
       "    <tr>\n",
       "      <th>Pressure</th>\n",
       "      <td>0.009008</td>\n",
       "      <td>-0.005447</td>\n",
       "      <td>-0.000219</td>\n",
       "      <td>0.005454</td>\n",
       "      <td>-0.049263</td>\n",
       "      <td>-0.011651</td>\n",
       "      <td>0.059818</td>\n",
       "      <td>NaN</td>\n",
       "      <td>1.000000</td>\n",
       "    </tr>\n",
       "  </tbody>\n",
       "</table>\n",
       "</div>"
      ],
      "text/plain": [
       "                     PrecipType  Temperature  ApparentTemperature  Humidity  \\\n",
       "PrecipType             1.000000    -0.562620            -0.565207  0.232113   \n",
       "Temperature           -0.562620     1.000000             0.992629 -0.632255   \n",
       "ApparentTemperature   -0.565207     0.992629             1.000000 -0.602571   \n",
       "Humidity               0.232113    -0.632255            -0.602571  1.000000   \n",
       "WindSpeed             -0.067928     0.008957            -0.056650 -0.224951   \n",
       "WindBearings          -0.041984     0.029988             0.029031  0.000735   \n",
       "Visibilty             -0.312875     0.392847             0.381718 -0.369173   \n",
       "LoudCover                   NaN          NaN                  NaN       NaN   \n",
       "Pressure               0.009008    -0.005447            -0.000219  0.005454   \n",
       "\n",
       "                     WindSpeed  WindBearings  Visibilty  LoudCover  Pressure  \n",
       "PrecipType           -0.067928     -0.041984  -0.312875        NaN  0.009008  \n",
       "Temperature           0.008957      0.029988   0.392847        NaN -0.005447  \n",
       "ApparentTemperature  -0.056650      0.029031   0.381718        NaN -0.000219  \n",
       "Humidity             -0.224951      0.000735  -0.369173        NaN  0.005454  \n",
       "WindSpeed             1.000000      0.103822   0.100749        NaN -0.049263  \n",
       "WindBearings          0.103822      1.000000   0.047594        NaN -0.011651  \n",
       "Visibilty             0.100749      0.047594   1.000000        NaN  0.059818  \n",
       "LoudCover                  NaN           NaN        NaN        NaN       NaN  \n",
       "Pressure             -0.049263     -0.011651   0.059818        NaN  1.000000  "
      ]
     },
     "execution_count": 381,
     "metadata": {},
     "output_type": "execute_result"
    }
   ],
   "source": [
    "df.corr()"
   ]
  },
  {
   "cell_type": "code",
   "execution_count": 382,
   "metadata": {},
   "outputs": [],
   "source": [
    "df=df.drop(['LoudCover'],axis=1)"
   ]
  },
  {
   "cell_type": "code",
   "execution_count": 383,
   "metadata": {},
   "outputs": [
    {
     "data": {
      "text/plain": [
       "<matplotlib.axes._subplots.AxesSubplot at 0x1de6c235c18>"
      ]
     },
     "execution_count": 383,
     "metadata": {},
     "output_type": "execute_result"
    },
    {
     "data": {
      "image/png": "[encoded data removed]",
      "text/plain": [
       "<Figure size 432x288 with 2 Axes>"
      ]
     },
     "metadata": {
      "needs_background": "light"
     },
     "output_type": "display_data"
    }
   ],
   "source": [
    "sn.heatmap(df.corr())"
   ]
  },
  {
   "cell_type": "code",
   "execution_count": 384,
   "metadata": {},
   "outputs": [
    {
     "data": {
      "text/html": [
       "<div>\n",
       "<style scoped>\n",
       "    .dataframe tbody tr th:only-of-type {\n",
       "        vertical-align: middle;\n",
       "    }\n",
       "\n",
       "    .dataframe tbody tr th {\n",
       "        vertical-align: top;\n",
       "    }\n",
       "\n",
       "    .dataframe thead th {\n",
       "        text-align: right;\n",
       "    }\n",
       "</style>\n",
       "<table border=\"1\" class=\"dataframe\">\n",
       "  <thead>\n",
       "    <tr style=\"text-align: right;\">\n",
       "      <th></th>\n",
       "      <th>Formatted Date</th>\n",
       "      <th>Summary</th>\n",
       "      <th>PrecipType</th>\n",
       "      <th>Temperature</th>\n",
       "      <th>ApparentTemperature</th>\n",
       "      <th>Humidity</th>\n",
       "      <th>WindSpeed</th>\n",
       "      <th>WindBearings</th>\n",
       "      <th>Visibilty</th>\n",
       "      <th>Pressure</th>\n",
       "    </tr>\n",
       "  </thead>\n",
       "  <tbody>\n",
       "    <tr>\n",
       "      <th>0</th>\n",
       "      <td>2006-04-01 00:00:00.000 +0200</td>\n",
       "      <td>Partly Cloudy</td>\n",
       "      <td>0</td>\n",
       "      <td>9.472222</td>\n",
       "      <td>7.388889</td>\n",
       "      <td>0.89</td>\n",
       "      <td>14.1197</td>\n",
       "      <td>251</td>\n",
       "      <td>15.8263</td>\n",
       "      <td>1015.13</td>\n",
       "    </tr>\n",
       "    <tr>\n",
       "      <th>1</th>\n",
       "      <td>2006-04-01 01:00:00.000 +0200</td>\n",
       "      <td>Partly Cloudy</td>\n",
       "      <td>0</td>\n",
       "      <td>9.355556</td>\n",
       "      <td>7.227778</td>\n",
       "      <td>0.86</td>\n",
       "      <td>14.2646</td>\n",
       "      <td>259</td>\n",
       "      <td>15.8263</td>\n",
       "      <td>1015.63</td>\n",
       "    </tr>\n",
       "    <tr>\n",
       "      <th>2</th>\n",
       "      <td>2006-04-01 02:00:00.000 +0200</td>\n",
       "      <td>Mostly Cloudy</td>\n",
       "      <td>0</td>\n",
       "      <td>9.377778</td>\n",
       "      <td>9.377778</td>\n",
       "      <td>0.89</td>\n",
       "      <td>3.9284</td>\n",
       "      <td>204</td>\n",
       "      <td>14.9569</td>\n",
       "      <td>1015.94</td>\n",
       "    </tr>\n",
       "    <tr>\n",
       "      <th>3</th>\n",
       "      <td>2006-04-01 03:00:00.000 +0200</td>\n",
       "      <td>Partly Cloudy</td>\n",
       "      <td>0</td>\n",
       "      <td>8.288889</td>\n",
       "      <td>5.944444</td>\n",
       "      <td>0.83</td>\n",
       "      <td>14.1036</td>\n",
       "      <td>269</td>\n",
       "      <td>15.8263</td>\n",
       "      <td>1016.41</td>\n",
       "    </tr>\n",
       "    <tr>\n",
       "      <th>4</th>\n",
       "      <td>2006-04-01 04:00:00.000 +0200</td>\n",
       "      <td>Mostly Cloudy</td>\n",
       "      <td>0</td>\n",
       "      <td>8.755556</td>\n",
       "      <td>6.977778</td>\n",
       "      <td>0.83</td>\n",
       "      <td>11.0446</td>\n",
       "      <td>259</td>\n",
       "      <td>15.8263</td>\n",
       "      <td>1016.51</td>\n",
       "    </tr>\n",
       "  </tbody>\n",
       "</table>\n",
       "</div>"
      ],
      "text/plain": [
       "                  Formatted Date        Summary  PrecipType  Temperature  \\\n",
       "0  2006-04-01 00:00:00.000 +0200  Partly Cloudy           0     9.472222   \n",
       "1  2006-04-01 01:00:00.000 +0200  Partly Cloudy           0     9.355556   \n",
       "2  2006-04-01 02:00:00.000 +0200  Mostly Cloudy           0     9.377778   \n",
       "3  2006-04-01 03:00:00.000 +0200  Partly Cloudy           0     8.288889   \n",
       "4  2006-04-01 04:00:00.000 +0200  Mostly Cloudy           0     8.755556   \n",
       "\n",
       "   ApparentTemperature  Humidity  WindSpeed  WindBearings  Visibilty  Pressure  \n",
       "0             7.388889      0.89    14.1197           251    15.8263   1015.13  \n",
       "1             7.227778      0.86    14.2646           259    15.8263   1015.63  \n",
       "2             9.377778      0.89     3.9284           204    14.9569   1015.94  \n",
       "3             5.944444      0.83    14.1036           269    15.8263   1016.41  \n",
       "4             6.977778      0.83    11.0446           259    15.8263   1016.51  "
      ]
     },
     "execution_count": 384,
     "metadata": {},
     "output_type": "execute_result"
    }
   ],
   "source": [
    "df.head()"
   ]
  },
  {
   "cell_type": "code",
   "execution_count": 385,
   "metadata": {},
   "outputs": [
    {
     "name": "stdout",
     "output_type": "stream",
     "text": [
      "27\n"
     ]
    },
    {
     "data": {
      "text/plain": [
       "array(['Partly Cloudy', 'Mostly Cloudy', 'Overcast', 'Foggy',\n",
       "       'Breezy and Mostly Cloudy', 'Clear', 'Breezy and Partly Cloudy',\n",
       "       'Breezy and Overcast', 'Humid and Mostly Cloudy',\n",
       "       'Humid and Partly Cloudy', 'Windy and Foggy', 'Windy and Overcast',\n",
       "       'Breezy and Foggy', 'Windy and Partly Cloudy', 'Breezy',\n",
       "       'Dry and Partly Cloudy', 'Windy and Mostly Cloudy',\n",
       "       'Dangerously Windy and Partly Cloudy', 'Dry', 'Windy',\n",
       "       'Humid and Overcast', 'Light Rain', 'Drizzle', 'Windy and Dry',\n",
       "       'Dry and Mostly Cloudy', 'Breezy and Dry', 'Rain'], dtype=object)"
      ]
     },
     "execution_count": 385,
     "metadata": {},
     "output_type": "execute_result"
    }
   ],
   "source": [
    "print(len(df.Summary.unique()))\n",
    "df.Summary.unique()"
   ]
  },
  {
   "cell_type": "code",
   "execution_count": 386,
   "metadata": {},
   "outputs": [
    {
     "name": "stderr",
     "output_type": "stream",
     "text": [
      "D:\\Anaconda3\\lib\\site-packages\\ipykernel_launcher.py:3: SettingWithCopyWarning: \n",
      "A value is trying to be set on a copy of a slice from a DataFrame\n",
      "\n",
      "See the caveats in the documentation: http://pandas.pydata.org/pandas-docs/stable/indexing.html#indexing-view-versus-copy\n",
      "  This is separate from the ipykernel package so we can avoid doing imports until\n"
     ]
    }
   ],
   "source": [
    "from sklearn.preprocessing import LabelEncoder, OneHotEncoder\n",
    "labelencoder_X = LabelEncoder()\n",
    "df.Summary[:] = labelencoder_X.fit_transform(df.Summary[:])"
   ]
  },
  {
   "cell_type": "code",
   "execution_count": 387,
   "metadata": {},
   "outputs": [
    {
     "data": {
      "text/plain": [
       "array([19, 17, 18, 12,  3,  6,  5,  4, 13, 15, 23, 25,  2, 26,  0, 11, 24,\n",
       "        7,  9, 21, 14, 16,  8, 22, 10,  1, 20], dtype=int64)"
      ]
     },
     "execution_count": 387,
     "metadata": {},
     "output_type": "execute_result"
    }
   ],
   "source": [
    "df.Summary.unique()"
   ]
  },
  {
   "cell_type": "code",
   "execution_count": 388,
   "metadata": {},
   "outputs": [
    {
     "name": "stdout",
     "output_type": "stream",
     "text": [
      "27\n"
     ]
    }
   ],
   "source": [
    "print(len(df.Summary.unique()))"
   ]
  },
  {
   "cell_type": "code",
   "execution_count": 389,
   "metadata": {},
   "outputs": [
    {
     "data": {
      "text/html": [
       "<div>\n",
       "<style scoped>\n",
       "    .dataframe tbody tr th:only-of-type {\n",
       "        vertical-align: middle;\n",
       "    }\n",
       "\n",
       "    .dataframe tbody tr th {\n",
       "        vertical-align: top;\n",
       "    }\n",
       "\n",
       "    .dataframe thead th {\n",
       "        text-align: right;\n",
       "    }\n",
       "</style>\n",
       "<table border=\"1\" class=\"dataframe\">\n",
       "  <thead>\n",
       "    <tr style=\"text-align: right;\">\n",
       "      <th></th>\n",
       "      <th>Formatted Date</th>\n",
       "      <th>Summary</th>\n",
       "      <th>PrecipType</th>\n",
       "      <th>Temperature</th>\n",
       "      <th>ApparentTemperature</th>\n",
       "      <th>Humidity</th>\n",
       "      <th>WindSpeed</th>\n",
       "      <th>WindBearings</th>\n",
       "      <th>Visibilty</th>\n",
       "      <th>Pressure</th>\n",
       "    </tr>\n",
       "  </thead>\n",
       "  <tbody>\n",
       "    <tr>\n",
       "      <th>0</th>\n",
       "      <td>2006-04-01 00:00:00.000 +0200</td>\n",
       "      <td>19</td>\n",
       "      <td>0</td>\n",
       "      <td>9.472222</td>\n",
       "      <td>7.388889</td>\n",
       "      <td>0.89</td>\n",
       "      <td>14.1197</td>\n",
       "      <td>251</td>\n",
       "      <td>15.8263</td>\n",
       "      <td>1015.13</td>\n",
       "    </tr>\n",
       "    <tr>\n",
       "      <th>1</th>\n",
       "      <td>2006-04-01 01:00:00.000 +0200</td>\n",
       "      <td>19</td>\n",
       "      <td>0</td>\n",
       "      <td>9.355556</td>\n",
       "      <td>7.227778</td>\n",
       "      <td>0.86</td>\n",
       "      <td>14.2646</td>\n",
       "      <td>259</td>\n",
       "      <td>15.8263</td>\n",
       "      <td>1015.63</td>\n",
       "    </tr>\n",
       "    <tr>\n",
       "      <th>2</th>\n",
       "      <td>2006-04-01 02:00:00.000 +0200</td>\n",
       "      <td>17</td>\n",
       "      <td>0</td>\n",
       "      <td>9.377778</td>\n",
       "      <td>9.377778</td>\n",
       "      <td>0.89</td>\n",
       "      <td>3.9284</td>\n",
       "      <td>204</td>\n",
       "      <td>14.9569</td>\n",
       "      <td>1015.94</td>\n",
       "    </tr>\n",
       "    <tr>\n",
       "      <th>3</th>\n",
       "      <td>2006-04-01 03:00:00.000 +0200</td>\n",
       "      <td>19</td>\n",
       "      <td>0</td>\n",
       "      <td>8.288889</td>\n",
       "      <td>5.944444</td>\n",
       "      <td>0.83</td>\n",
       "      <td>14.1036</td>\n",
       "      <td>269</td>\n",
       "      <td>15.8263</td>\n",
       "      <td>1016.41</td>\n",
       "    </tr>\n",
       "    <tr>\n",
       "      <th>4</th>\n",
       "      <td>2006-04-01 04:00:00.000 +0200</td>\n",
       "      <td>17</td>\n",
       "      <td>0</td>\n",
       "      <td>8.755556</td>\n",
       "      <td>6.977778</td>\n",
       "      <td>0.83</td>\n",
       "      <td>11.0446</td>\n",
       "      <td>259</td>\n",
       "      <td>15.8263</td>\n",
       "      <td>1016.51</td>\n",
       "    </tr>\n",
       "  </tbody>\n",
       "</table>\n",
       "</div>"
      ],
      "text/plain": [
       "                  Formatted Date  Summary  PrecipType  Temperature  \\\n",
       "0  2006-04-01 00:00:00.000 +0200       19           0     9.472222   \n",
       "1  2006-04-01 01:00:00.000 +0200       19           0     9.355556   \n",
       "2  2006-04-01 02:00:00.000 +0200       17           0     9.377778   \n",
       "3  2006-04-01 03:00:00.000 +0200       19           0     8.288889   \n",
       "4  2006-04-01 04:00:00.000 +0200       17           0     8.755556   \n",
       "\n",
       "   ApparentTemperature  Humidity  WindSpeed  WindBearings  Visibilty  Pressure  \n",
       "0             7.388889      0.89    14.1197           251    15.8263   1015.13  \n",
       "1             7.227778      0.86    14.2646           259    15.8263   1015.63  \n",
       "2             9.377778      0.89     3.9284           204    14.9569   1015.94  \n",
       "3             5.944444      0.83    14.1036           269    15.8263   1016.41  \n",
       "4             6.977778      0.83    11.0446           259    15.8263   1016.51  "
      ]
     },
     "execution_count": 389,
     "metadata": {},
     "output_type": "execute_result"
    }
   ],
   "source": [
    "df.head()"
   ]
  },
  {
   "cell_type": "code",
   "execution_count": 390,
   "metadata": {},
   "outputs": [],
   "source": [
    "# convert series to supervised learning \n",
    "def series_to_supervised(data, n_in=1, n_out=1, dropnan=True): \n",
    "    n_vars = 1 if type(data) is list else data.shape[1] \n",
    "    df = pd.DataFrame(data) \n",
    "    cols, names = list(), list() \n",
    "    # input sequence (t-n, ... t-1) \n",
    "    for i in range(n_in, 0, -1):  \n",
    "        cols.append(df.shift(i))  \n",
    "        names += [('var%d(t-%d)' % (j+1, i)) for j in range(n_vars)] \n",
    "    # forecast sequence (t, t+1, ... t+n) \n",
    "    for i in range(0, n_out):  \n",
    "        cols.append(df.shift(-i))  \n",
    "        if i == 0:   \n",
    "            names += [('var%d(t)' % (j+1)) for j in range(n_vars)]  \n",
    "        else:   \n",
    "            names += [('var%d(t+%d)' % (j+1, i)) for j in range(n_vars)] \n",
    "    # put it all together \n",
    "    agg = pd.concat(cols, axis=1) \n",
    "    agg.columns = names \n",
    "    # drop rows with NaN values \n",
    "    if dropnan:  \n",
    "        agg.dropna(inplace=True) \n",
    "    return agg "
   ]
  },
  {
   "cell_type": "code",
   "execution_count": 391,
   "metadata": {},
   "outputs": [],
   "source": [
    "df = df.set_index(pd.DatetimeIndex(df['Formatted Date']))"
   ]
  },
  {
   "cell_type": "code",
   "execution_count": 392,
   "metadata": {},
   "outputs": [],
   "source": [
    "df=df.drop('Formatted Date',axis=1)"
   ]
  },
  {
   "cell_type": "code",
   "execution_count": 393,
   "metadata": {},
   "outputs": [],
   "source": [
    "df.index.name='date'"
   ]
  },
  {
   "cell_type": "code",
   "execution_count": 394,
   "metadata": {},
   "outputs": [
    {
     "data": {
      "text/html": [
       "<div>\n",
       "<style scoped>\n",
       "    .dataframe tbody tr th:only-of-type {\n",
       "        vertical-align: middle;\n",
       "    }\n",
       "\n",
       "    .dataframe tbody tr th {\n",
       "        vertical-align: top;\n",
       "    }\n",
       "\n",
       "    .dataframe thead th {\n",
       "        text-align: right;\n",
       "    }\n",
       "</style>\n",
       "<table border=\"1\" class=\"dataframe\">\n",
       "  <thead>\n",
       "    <tr style=\"text-align: right;\">\n",
       "      <th></th>\n",
       "      <th>Summary</th>\n",
       "      <th>PrecipType</th>\n",
       "      <th>Temperature</th>\n",
       "      <th>ApparentTemperature</th>\n",
       "      <th>Humidity</th>\n",
       "      <th>WindSpeed</th>\n",
       "      <th>WindBearings</th>\n",
       "      <th>Visibilty</th>\n",
       "      <th>Pressure</th>\n",
       "    </tr>\n",
       "    <tr>\n",
       "      <th>date</th>\n",
       "      <th></th>\n",
       "      <th></th>\n",
       "      <th></th>\n",
       "      <th></th>\n",
       "      <th></th>\n",
       "      <th></th>\n",
       "      <th></th>\n",
       "      <th></th>\n",
       "      <th></th>\n",
       "    </tr>\n",
       "  </thead>\n",
       "  <tbody>\n",
       "    <tr>\n",
       "      <th>2006-03-31 22:00:00</th>\n",
       "      <td>19</td>\n",
       "      <td>0</td>\n",
       "      <td>9.472222</td>\n",
       "      <td>7.388889</td>\n",
       "      <td>0.89</td>\n",
       "      <td>14.1197</td>\n",
       "      <td>251</td>\n",
       "      <td>15.8263</td>\n",
       "      <td>1015.13</td>\n",
       "    </tr>\n",
       "    <tr>\n",
       "      <th>2006-03-31 23:00:00</th>\n",
       "      <td>19</td>\n",
       "      <td>0</td>\n",
       "      <td>9.355556</td>\n",
       "      <td>7.227778</td>\n",
       "      <td>0.86</td>\n",
       "      <td>14.2646</td>\n",
       "      <td>259</td>\n",
       "      <td>15.8263</td>\n",
       "      <td>1015.63</td>\n",
       "    </tr>\n",
       "    <tr>\n",
       "      <th>2006-04-01 00:00:00</th>\n",
       "      <td>17</td>\n",
       "      <td>0</td>\n",
       "      <td>9.377778</td>\n",
       "      <td>9.377778</td>\n",
       "      <td>0.89</td>\n",
       "      <td>3.9284</td>\n",
       "      <td>204</td>\n",
       "      <td>14.9569</td>\n",
       "      <td>1015.94</td>\n",
       "    </tr>\n",
       "    <tr>\n",
       "      <th>2006-04-01 01:00:00</th>\n",
       "      <td>19</td>\n",
       "      <td>0</td>\n",
       "      <td>8.288889</td>\n",
       "      <td>5.944444</td>\n",
       "      <td>0.83</td>\n",
       "      <td>14.1036</td>\n",
       "      <td>269</td>\n",
       "      <td>15.8263</td>\n",
       "      <td>1016.41</td>\n",
       "    </tr>\n",
       "    <tr>\n",
       "      <th>2006-04-01 02:00:00</th>\n",
       "      <td>17</td>\n",
       "      <td>0</td>\n",
       "      <td>8.755556</td>\n",
       "      <td>6.977778</td>\n",
       "      <td>0.83</td>\n",
       "      <td>11.0446</td>\n",
       "      <td>259</td>\n",
       "      <td>15.8263</td>\n",
       "      <td>1016.51</td>\n",
       "    </tr>\n",
       "  </tbody>\n",
       "</table>\n",
       "</div>"
      ],
      "text/plain": [
       "                     Summary  PrecipType  Temperature  ApparentTemperature  \\\n",
       "date                                                                         \n",
       "2006-03-31 22:00:00       19           0     9.472222             7.388889   \n",
       "2006-03-31 23:00:00       19           0     9.355556             7.227778   \n",
       "2006-04-01 00:00:00       17           0     9.377778             9.377778   \n",
       "2006-04-01 01:00:00       19           0     8.288889             5.944444   \n",
       "2006-04-01 02:00:00       17           0     8.755556             6.977778   \n",
       "\n",
       "                     Humidity  WindSpeed  WindBearings  Visibilty  Pressure  \n",
       "date                                                                         \n",
       "2006-03-31 22:00:00      0.89    14.1197           251    15.8263   1015.13  \n",
       "2006-03-31 23:00:00      0.86    14.2646           259    15.8263   1015.63  \n",
       "2006-04-01 00:00:00      0.89     3.9284           204    14.9569   1015.94  \n",
       "2006-04-01 01:00:00      0.83    14.1036           269    15.8263   1016.41  \n",
       "2006-04-01 02:00:00      0.83    11.0446           259    15.8263   1016.51  "
      ]
     },
     "execution_count": 394,
     "metadata": {},
     "output_type": "execute_result"
    }
   ],
   "source": [
    "df.head()"
   ]
  },
  {
   "cell_type": "code",
   "execution_count": 395,
   "metadata": {},
   "outputs": [],
   "source": [
    "df.to_csv(\"weather.csv\")"
   ]
  },
  {
   "cell_type": "code",
   "execution_count": 396,
   "metadata": {},
   "outputs": [
    {
     "name": "stdout",
     "output_type": "stream",
     "text": [
      "-21.82222222\n"
     ]
    },
    {
     "data": {
      "text/plain": [
       "39.90555556"
      ]
     },
     "execution_count": 396,
     "metadata": {},
     "output_type": "execute_result"
    }
   ],
   "source": [
    "data=df.values\n",
    "print(df.Temperature.min())\n",
    "df.Temperature.max()"
   ]
  },
  {
   "cell_type": "code",
   "execution_count": 397,
   "metadata": {},
   "outputs": [],
   "source": [
    "# ensure all data is float\n",
    "data=data.astype('float32')"
   ]
  },
  {
   "cell_type": "code",
   "execution_count": 398,
   "metadata": {},
   "outputs": [],
   "source": [
    "# normalize features\n",
    "scaler=MinMaxScaler(feature_range=(0,1))\n",
    "scaled = scaler.fit_transform(data)"
   ]
  },
  {
   "cell_type": "code",
   "execution_count": 399,
   "metadata": {},
   "outputs": [],
   "source": [
    "# specify no. of lag hours\n",
    "n_hours = 3\n",
    "n_features = 9"
   ]
  },
  {
   "cell_type": "code",
   "execution_count": 400,
   "metadata": {},
   "outputs": [
    {
     "name": "stdout",
     "output_type": "stream",
     "text": [
      "0.4878049\n",
      "20.43888889\n"
     ]
    }
   ],
   "source": [
    "print(scaled[3][2])\n",
    "print(df.iloc[-1,2])"
   ]
  },
  {
   "cell_type": "code",
   "execution_count": 401,
   "metadata": {},
   "outputs": [
    {
     "name": "stdout",
     "output_type": "stream",
     "text": [
      "(96450, 36)\n"
     ]
    }
   ],
   "source": [
    "# frame as supervised learning\n",
    "reframed = series_to_supervised(scaled,n_hours,1)\n",
    "print(reframed.shape)"
   ]
  },
  {
   "cell_type": "code",
   "execution_count": 402,
   "metadata": {},
   "outputs": [
    {
     "name": "stdout",
     "output_type": "stream",
     "text": [
      "       var1(t-3)  var2(t-3)  var3(t-3)  var4(t-3)  var5(t-3)  var6(t-3)  \\\n",
      "3       0.730769        0.0   0.506975   0.523486       0.89   0.221130   \n",
      "4       0.730769        0.0   0.505085   0.521084       0.86   0.223399   \n",
      "5       0.653846        0.0   0.505445   0.553144       0.89   0.061523   \n",
      "6       0.730769        0.0   0.487805   0.501947       0.83   0.220877   \n",
      "7       0.653846        0.0   0.495365   0.517356       0.83   0.172970   \n",
      "8       0.730769        0.0   0.502925   0.519344       0.85   0.218608   \n",
      "9       0.730769        0.0   0.478805   0.495651       0.95   0.193646   \n",
      "10      0.730769        0.0   0.495635   0.510645       0.89   0.221634   \n",
      "11      0.730769        0.0   0.528845   0.574683       0.82   0.177257   \n",
      "12      0.730769        0.0   0.576636   0.618673       0.72   0.196167   \n",
      "13      0.730769        0.0   0.612996   0.652142       0.67   0.275088   \n",
      "14      0.730769        0.0   0.631266   0.668959       0.54   0.309884   \n",
      "15      0.730769        0.0   0.641886   0.678734       0.55   0.343671   \n",
      "16      0.730769        0.0   0.634326   0.671775       0.51   0.324004   \n",
      "17      0.730769        0.0   0.659347   0.694806       0.47   0.240797   \n",
      "18      0.730769        0.0   0.659887   0.695303       0.46   0.162885   \n",
      "19      0.730769        0.0   0.602826   0.642780       0.60   0.225668   \n",
      "20      0.653846        0.0   0.605436   0.645183       0.63   0.174735   \n",
      "21      0.653846        0.0   0.584466   0.625880       0.69   0.133384   \n",
      "22      0.653846        0.0   0.566466   0.609312       0.70   0.119516   \n",
      "23      0.653846        0.0   0.540635   0.585536       0.77   0.115734   \n",
      "24      0.653846        0.0   0.534695   0.580068       0.76   0.077156   \n",
      "25      0.730769        0.0   0.517415   0.564162       0.79   0.104135   \n",
      "26      0.653846        0.0   0.518765   0.565405       0.77   0.061523   \n",
      "27      0.730769        0.0   0.522365   0.568718       0.62   0.266011   \n",
      "28      0.730769        0.0   0.514085   0.526137       0.66   0.269541   \n",
      "29      0.653846        0.0   0.534695   0.580068       0.80   0.169440   \n",
      "30      0.730769        0.0   0.469445   0.488526       0.79   0.173475   \n",
      "31      0.730769        0.0   0.452525   0.485130       0.82   0.104135   \n",
      "32      0.730769        0.0   0.463505   0.477011       0.83   0.203732   \n",
      "...          ...        ...        ...        ...        ...        ...   \n",
      "96423   0.730769        0.0   0.838718   0.836882       0.25   0.341654   \n",
      "96424   0.730769        0.0   0.839078   0.837793       0.26   0.193646   \n",
      "96425   0.730769        0.0   0.820808   0.824870       0.27   0.082703   \n",
      "96426   0.730769        0.0   0.803888   0.816668       0.32   0.048159   \n",
      "96427   0.730769        0.0   0.756998   0.784691       0.51   0.000000   \n",
      "96428   0.730769        0.0   0.715867   0.746831       0.58   0.052194   \n",
      "96429   0.653846        0.0   0.693997   0.726700       0.64   0.050429   \n",
      "96430   0.730769        0.0   0.676357   0.710463       0.71   0.049420   \n",
      "96431   0.730769        0.0   0.650797   0.686936       0.77   0.050429   \n",
      "96432   0.730769        0.0   0.641166   0.678071       0.81   0.046394   \n",
      "96433   0.230769        0.0   0.622806   0.661171       0.87   0.053707   \n",
      "96434   0.230769        0.0   0.615066   0.654047       0.87   0.057237   \n",
      "96435   0.230769        0.0   0.606156   0.645845       0.87   0.051437   \n",
      "96436   0.230769        0.0   0.596706   0.637147       0.93   0.050177   \n",
      "96437   0.230769        0.0   0.596796   0.637230       0.90   0.042360   \n",
      "96438   0.230769        0.0   0.578256   0.620164       0.93   0.074382   \n",
      "96439   0.230769        0.0   0.613896   0.652970       0.88   0.043621   \n",
      "96440   0.730769        0.0   0.670417   0.704995       0.75   0.058245   \n",
      "96441   0.730769        0.0   0.712177   0.743435       0.65   0.121785   \n",
      "96442   0.730769        0.0   0.724057   0.754370       0.59   0.100605   \n",
      "96443   0.730769        0.0   0.792098   0.816254       0.42   0.188099   \n",
      "96444   0.730769        0.0   0.821168   0.834065       0.37   0.218104   \n",
      "96445   0.730769        0.0   0.855639   0.860244       0.33   0.244579   \n",
      "96446   0.730769        0.0   0.854019   0.852456       0.28   0.231467   \n",
      "96447   0.730769        0.0   0.857079   0.854942       0.28   0.242814   \n",
      "96448   0.730769        0.0   0.857079   0.854859       0.28   0.217600   \n",
      "96449   0.730769        0.0   0.851949   0.850385       0.28   0.222642   \n",
      "96450   0.730769        0.0   0.820718   0.828597       0.32   0.191125   \n",
      "96451   0.730769        0.0   0.774998   0.801259       0.43   0.172214   \n",
      "96452   0.730769        0.0   0.751778   0.779886       0.48   0.158094   \n",
      "\n",
      "       var7(t-3)  var8(t-3)  var9(t-3)  var1(t-2)    ...     var9(t-1)  \\\n",
      "3       0.699164      0.983   0.970135   0.730769    ...      0.970909   \n",
      "4       0.721448      0.983   0.970613   0.653846    ...      0.971358   \n",
      "5       0.568245      0.929   0.970909   0.730769    ...      0.971454   \n",
      "6       0.749304      0.983   0.971358   0.653846    ...      0.971597   \n",
      "7       0.721448      0.983   0.971454   0.730769    ...      0.971655   \n",
      "8       0.718663      0.929   0.971597   0.730769    ...      0.971769   \n",
      "9       0.721448      0.620   0.971655   0.730769    ...      0.972276   \n",
      "10      0.724234      0.620   0.971769   0.730769    ...      0.972132   \n",
      "11      0.721448      0.620   0.972276   0.730769    ...      0.972324   \n",
      "12      0.777159      0.620   0.972132   0.730769    ...      0.972629   \n",
      "13      0.807799      0.696   0.972324   0.730769    ...      0.972486   \n",
      "14      0.880223      0.711   0.972629   0.730769    ...      0.972381   \n",
      "15      0.782730      0.700   0.972486   0.730769    ...      0.972085   \n",
      "16      0.805014      0.700   0.972381   0.730769    ...      0.971416   \n",
      "17      0.729805      0.711   0.972085   0.730769    ...      0.971110   \n",
      "18      0.802228      0.700   0.971416   0.730769    ...      0.971129   \n",
      "19      0.699164      0.700   0.971110   0.653846    ...      0.970794   \n",
      "20      0.640669      0.711   0.971129   0.653846    ...      0.970804   \n",
      "21      0.454039      0.696   0.970794   0.653846    ...      0.970823   \n",
      "22      0.387187      0.696   0.970804   0.653846    ...      0.970747   \n",
      "23      0.409471      0.685   0.970823   0.653846    ...      0.970393   \n",
      "24      0.445682      0.620   0.970747   0.730769    ...      0.970498   \n",
      "25      0.454039      0.983   0.970393   0.653846    ...      0.969437   \n",
      "26      0.423398      0.929   0.970498   0.730769    ...      0.969246   \n",
      "27      0.417827      0.983   0.969437   0.730769    ...      0.964000   \n",
      "28      0.415042      0.983   0.969246   0.653846    ...      0.969504   \n",
      "29      0.454039      0.929   0.964000   0.730769    ...      0.969485   \n",
      "30      0.501393      0.983   0.969504   0.730769    ...      0.969523   \n",
      "31      0.448468      0.983   0.969485   0.730769    ...      0.969552   \n",
      "32      0.376045      0.929   0.969523   0.653846    ...      0.969208   \n",
      "...          ...        ...        ...        ...    ...           ...   \n",
      "96423   0.445682      1.000   0.970231   0.730769    ...      0.969409   \n",
      "96424   0.442897      1.000   0.969925   0.730769    ...      0.969093   \n",
      "96425   0.345404      0.966   0.969409   0.730769    ...      0.969189   \n",
      "96426   0.334262      1.000   0.969093   0.730769    ...      0.969380   \n",
      "96427   0.000000      1.000   0.969189   0.730769    ...      0.969753   \n",
      "96428   0.376045      0.966   0.969380   0.653846    ...      0.969657   \n",
      "96429   0.947075      1.000   0.969753   0.730769    ...      0.969705   \n",
      "96430   0.841226      1.000   0.969657   0.730769    ...      0.969676   \n",
      "96431   0.147632      0.966   0.969705   0.730769    ...      0.969590   \n",
      "96432   0.033426      1.000   0.969676   0.230769    ...      0.969715   \n",
      "96433   0.972145      1.000   0.969590   0.230769    ...      0.969552   \n",
      "96434   0.044568      0.941   0.969715   0.230769    ...      0.969409   \n",
      "96435   0.114206      0.959   0.969552   0.230769    ...      0.969581   \n",
      "96436   0.949861      0.983   0.969409   0.230769    ...      0.969686   \n",
      "96437   1.000000      0.929   0.969581   0.230769    ...      0.970250   \n",
      "96438   0.000000      0.983   0.969686   0.230769    ...      0.970279   \n",
      "96439   0.033426      0.977   0.970250   0.730769    ...      0.970451   \n",
      "96440   0.033426      0.929   0.970279   0.730769    ...      0.970632   \n",
      "96441   0.083565      1.000   0.970451   0.730769    ...      0.970431   \n",
      "96442   0.136490      1.000   0.970632   0.730769    ...      0.970345   \n",
      "96443   0.136490      0.966   0.970431   0.730769    ...      0.969877   \n",
      "96444   0.169916      1.000   0.970345   0.730769    ...      0.969686   \n",
      "96445   0.194986      1.000   0.969877   0.730769    ...      0.969218   \n",
      "96446   0.119777      0.966   0.969686   0.730769    ...      0.969027   \n",
      "96447   0.111421      1.000   0.969218   0.730769    ...      0.968893   \n",
      "96448   0.111421      1.000   0.969027   0.730769    ...      0.969122   \n",
      "96449   0.066852      0.966   0.968893   0.730769    ...      0.969399   \n",
      "96450   0.058496      1.000   0.969122   0.730769    ...      0.970164   \n",
      "96451   0.086351      1.000   0.969399   0.730769    ...      0.970642   \n",
      "96452   0.055710      0.966   0.970164   0.730769    ...      0.970919   \n",
      "\n",
      "        var1(t)  var2(t)   var3(t)   var4(t)  var5(t)   var6(t)   var7(t)  \\\n",
      "3      0.730769      0.0  0.487805  0.501947     0.83  0.220877  0.749304   \n",
      "4      0.653846      0.0  0.495365  0.517356     0.83  0.172970  0.721448   \n",
      "5      0.730769      0.0  0.502925  0.519344     0.85  0.218608  0.718663   \n",
      "6      0.730769      0.0  0.478805  0.495651     0.95  0.193646  0.721448   \n",
      "7      0.730769      0.0  0.495635  0.510645     0.89  0.221634  0.724234   \n",
      "8      0.730769      0.0  0.528845  0.574683     0.82  0.177257  0.721448   \n",
      "9      0.730769      0.0  0.576636  0.618673     0.72  0.196167  0.777159   \n",
      "10     0.730769      0.0  0.612996  0.652142     0.67  0.275088  0.807799   \n",
      "11     0.730769      0.0  0.631266  0.668959     0.54  0.309884  0.880223   \n",
      "12     0.730769      0.0  0.641886  0.678734     0.55  0.343671  0.782730   \n",
      "13     0.730769      0.0  0.634326  0.671775     0.51  0.324004  0.805014   \n",
      "14     0.730769      0.0  0.659347  0.694806     0.47  0.240797  0.729805   \n",
      "15     0.730769      0.0  0.659887  0.695303     0.46  0.162885  0.802228   \n",
      "16     0.730769      0.0  0.602826  0.642780     0.60  0.225668  0.699164   \n",
      "17     0.653846      0.0  0.605436  0.645183     0.63  0.174735  0.640669   \n",
      "18     0.653846      0.0  0.584466  0.625880     0.69  0.133384  0.454039   \n",
      "19     0.653846      0.0  0.566466  0.609312     0.70  0.119516  0.387187   \n",
      "20     0.653846      0.0  0.540635  0.585536     0.77  0.115734  0.409471   \n",
      "21     0.653846      0.0  0.534695  0.580068     0.76  0.077156  0.445682   \n",
      "22     0.730769      0.0  0.517415  0.564162     0.79  0.104135  0.454039   \n",
      "23     0.653846      0.0  0.518765  0.565405     0.77  0.061523  0.423398   \n",
      "24     0.730769      0.0  0.522365  0.568718     0.62  0.266011  0.417827   \n",
      "25     0.730769      0.0  0.514085  0.526137     0.66  0.269541  0.415042   \n",
      "26     0.653846      0.0  0.534695  0.580068     0.80  0.169440  0.454039   \n",
      "27     0.730769      0.0  0.469445  0.488526     0.79  0.173475  0.501393   \n",
      "28     0.730769      0.0  0.452525  0.485130     0.82  0.104135  0.448468   \n",
      "29     0.730769      0.0  0.463505  0.477011     0.83  0.203732  0.376045   \n",
      "30     0.653846      0.0  0.471155  0.490183     0.85  0.174987  0.392758   \n",
      "31     0.653846      0.0  0.479885  0.495734     0.83  0.200706  0.417827   \n",
      "32     0.653846      0.0  0.513455  0.531605     0.78  0.215330  0.445682   \n",
      "...         ...      ...       ...       ...      ...       ...       ...   \n",
      "96423  0.730769      0.0  0.803888  0.816668     0.32  0.048159  0.334262   \n",
      "96424  0.730769      0.0  0.756998  0.784691     0.51  0.000000  0.000000   \n",
      "96425  0.730769      0.0  0.715867  0.746831     0.58  0.052194  0.376045   \n",
      "96426  0.653846      0.0  0.693997  0.726700     0.64  0.050429  0.947075   \n",
      "96427  0.730769      0.0  0.676357  0.710463     0.71  0.049420  0.841226   \n",
      "96428  0.730769      0.0  0.650797  0.686936     0.77  0.050429  0.147632   \n",
      "96429  0.730769      0.0  0.641166  0.678071     0.81  0.046394  0.033426   \n",
      "96430  0.230769      0.0  0.622806  0.661171     0.87  0.053707  0.972145   \n",
      "96431  0.230769      0.0  0.615066  0.654047     0.87  0.057237  0.044568   \n",
      "96432  0.230769      0.0  0.606156  0.645845     0.87  0.051437  0.114206   \n",
      "96433  0.230769      0.0  0.596706  0.637147     0.93  0.050177  0.949861   \n",
      "96434  0.230769      0.0  0.596796  0.637230     0.90  0.042360  1.000000   \n",
      "96435  0.230769      0.0  0.578256  0.620164     0.93  0.074382  0.000000   \n",
      "96436  0.230769      0.0  0.613896  0.652970     0.88  0.043621  0.033426   \n",
      "96437  0.730769      0.0  0.670417  0.704995     0.75  0.058245  0.033426   \n",
      "96438  0.730769      0.0  0.712177  0.743435     0.65  0.121785  0.083565   \n",
      "96439  0.730769      0.0  0.724057  0.754370     0.59  0.100605  0.136490   \n",
      "96440  0.730769      0.0  0.792098  0.816254     0.42  0.188099  0.136490   \n",
      "96441  0.730769      0.0  0.821168  0.834065     0.37  0.218104  0.169916   \n",
      "96442  0.730769      0.0  0.855639  0.860244     0.33  0.244579  0.194986   \n",
      "96443  0.730769      0.0  0.854019  0.852456     0.28  0.231467  0.119777   \n",
      "96444  0.730769      0.0  0.857079  0.854942     0.28  0.242814  0.111421   \n",
      "96445  0.730769      0.0  0.857079  0.854859     0.28  0.217600  0.111421   \n",
      "96446  0.730769      0.0  0.851949  0.850385     0.28  0.222642  0.066852   \n",
      "96447  0.730769      0.0  0.820718  0.828597     0.32  0.191125  0.058496   \n",
      "96448  0.730769      0.0  0.774998  0.801259     0.43  0.172214  0.086351   \n",
      "96449  0.730769      0.0  0.751778  0.779886     0.48  0.158094  0.055710   \n",
      "96450  0.730769      0.0  0.710557  0.741943     0.56  0.140696  0.083565   \n",
      "96451  0.730769      0.0  0.702187  0.734239     0.60  0.164902  0.055710   \n",
      "96452  0.730769      0.0  0.684637  0.718085     0.61  0.092032  0.108635   \n",
      "\n",
      "       var8(t)   var9(t)  \n",
      "3        0.983  0.971358  \n",
      "4        0.983  0.971454  \n",
      "5        0.929  0.971597  \n",
      "6        0.620  0.971655  \n",
      "7        0.620  0.971769  \n",
      "8        0.620  0.972276  \n",
      "9        0.620  0.972132  \n",
      "10       0.696  0.972324  \n",
      "11       0.711  0.972629  \n",
      "12       0.700  0.972486  \n",
      "13       0.700  0.972381  \n",
      "14       0.711  0.972085  \n",
      "15       0.700  0.971416  \n",
      "16       0.700  0.971110  \n",
      "17       0.711  0.971129  \n",
      "18       0.696  0.970794  \n",
      "19       0.696  0.970804  \n",
      "20       0.685  0.970823  \n",
      "21       0.620  0.970747  \n",
      "22       0.983  0.970393  \n",
      "23       0.929  0.970498  \n",
      "24       0.983  0.969437  \n",
      "25       0.983  0.969246  \n",
      "26       0.929  0.964000  \n",
      "27       0.983  0.969504  \n",
      "28       0.983  0.969485  \n",
      "29       0.929  0.969523  \n",
      "30       0.385  0.969552  \n",
      "31       0.500  0.969208  \n",
      "32       0.620  0.969285  \n",
      "...        ...       ...  \n",
      "96423    1.000  0.969093  \n",
      "96424    1.000  0.969189  \n",
      "96425    0.966  0.969380  \n",
      "96426    1.000  0.969753  \n",
      "96427    1.000  0.969657  \n",
      "96428    0.966  0.969705  \n",
      "96429    1.000  0.969676  \n",
      "96430    1.000  0.969590  \n",
      "96431    0.941  0.969715  \n",
      "96432    0.959  0.969552  \n",
      "96433    0.983  0.969409  \n",
      "96434    0.929  0.969581  \n",
      "96435    0.983  0.969686  \n",
      "96436    0.977  0.970250  \n",
      "96437    0.929  0.970279  \n",
      "96438    1.000  0.970451  \n",
      "96439    1.000  0.970632  \n",
      "96440    0.966  0.970431  \n",
      "96441    1.000  0.970345  \n",
      "96442    1.000  0.969877  \n",
      "96443    0.966  0.969686  \n",
      "96444    1.000  0.969218  \n",
      "96445    1.000  0.969027  \n",
      "96446    0.966  0.968893  \n",
      "96447    1.000  0.969122  \n",
      "96448    1.000  0.969399  \n",
      "96449    0.966  0.970164  \n",
      "96450    1.000  0.970642  \n",
      "96451    1.000  0.970919  \n",
      "96452    0.964  0.971119  \n",
      "\n",
      "[96450 rows x 36 columns]\n"
     ]
    }
   ],
   "source": [
    "print(reframed)"
   ]
  },
  {
   "cell_type": "code",
   "execution_count": 403,
   "metadata": {},
   "outputs": [],
   "source": [
    "values = reframed.values"
   ]
  },
  {
   "cell_type": "code",
   "execution_count": 404,
   "metadata": {},
   "outputs": [],
   "source": [
    "n_train_hours=365*24"
   ]
  },
  {
   "cell_type": "code",
   "execution_count": 405,
   "metadata": {},
   "outputs": [],
   "source": [
    "train = values[:n_train_hours,:]\n",
    "test = values[n_train_hours:, : ]"
   ]
  },
  {
   "cell_type": "code",
   "execution_count": 406,
   "metadata": {},
   "outputs": [],
   "source": [
    "# split into input and outputs\n",
    "n_obs = n_hours * n_features\n",
    "train_X,train_Y = train[:,:n_obs],train[:,-7]   # as at 7th no. from last is temp. our o/p var\n",
    "test_X,test_Y = test[:,:n_obs],test[:,-7]"
   ]
  },
  {
   "cell_type": "code",
   "execution_count": 407,
   "metadata": {},
   "outputs": [
    {
     "name": "stdout",
     "output_type": "stream",
     "text": [
      "[0.5386554  0.53757536 0.5223652  ... 0.7105571  0.70218706 0.68463683]\n"
     ]
    }
   ],
   "source": [
    "print(test_Y)"
   ]
  },
  {
   "cell_type": "code",
   "execution_count": 408,
   "metadata": {},
   "outputs": [
    {
     "name": "stdout",
     "output_type": "stream",
     "text": [
      "(8760, 27) 8760 (8760,)\n"
     ]
    }
   ],
   "source": [
    "print(train_X.shape,len(train_X),train_Y.shape)"
   ]
  },
  {
   "cell_type": "code",
   "execution_count": 409,
   "metadata": {},
   "outputs": [
    {
     "name": "stdout",
     "output_type": "stream",
     "text": [
      "(8760, 3, 9) (8760,) (87690, 3, 9) (87690,)\n"
     ]
    }
   ],
   "source": [
    "# reshape input to be 3D [samples, timesteps, fetures]\n",
    "train_X = train_X.reshape((train_X.shape[0],n_hours,n_features))\n",
    "test_X = test_X.reshape((test_X.shape[0],n_hours,n_features))  # 27 = 3 * 9\n",
    "print(train_X.shape, train_Y.shape, test_X.shape, test_Y.shape)"
   ]
  },
  {
   "cell_type": "code",
   "execution_count": 410,
   "metadata": {},
   "outputs": [],
   "source": [
    "# design network\n",
    "model = Sequential()\n",
    "model.add(LSTM(50, input_shape=(train_X.shape[1], train_X.shape[2])))\n",
    "model.add(Dense(1))\n",
    "model.compile(loss='mae',optimizer='adam')"
   ]
  },
  {
   "cell_type": "code",
   "execution_count": 411,
   "metadata": {},
   "outputs": [
    {
     "name": "stdout",
     "output_type": "stream",
     "text": [
      "Train on 8760 samples, validate on 87690 samples\n",
      "Epoch 1/50\n",
      " - 6s - loss: 0.1540 - val_loss: 0.1290\n",
      "Epoch 2/50\n",
      " - 2s - loss: 0.0777 - val_loss: 0.0886\n",
      "Epoch 3/50\n",
      " - 2s - loss: 0.0554 - val_loss: 0.0633\n",
      "Epoch 4/50\n",
      " - 2s - loss: 0.0435 - val_loss: 0.0495\n",
      "Epoch 5/50\n",
      " - 2s - loss: 0.0407 - val_loss: 0.0474\n",
      "Epoch 6/50\n",
      " - 2s - loss: 0.0396 - val_loss: 0.0454\n",
      "Epoch 7/50\n",
      " - 2s - loss: 0.0378 - val_loss: 0.0412\n",
      "Epoch 8/50\n",
      " - 2s - loss: 0.0363 - val_loss: 0.0390\n",
      "Epoch 9/50\n",
      " - 2s - loss: 0.0354 - val_loss: 0.0378\n",
      "Epoch 10/50\n",
      " - 2s - loss: 0.0345 - val_loss: 0.0367\n",
      "Epoch 11/50\n",
      " - 2s - loss: 0.0337 - val_loss: 0.0357\n",
      "Epoch 12/50\n",
      " - 2s - loss: 0.0327 - val_loss: 0.0347\n",
      "Epoch 13/50\n",
      " - 2s - loss: 0.0318 - val_loss: 0.0330\n",
      "Epoch 14/50\n",
      " - 2s - loss: 0.0312 - val_loss: 0.0327\n",
      "Epoch 15/50\n",
      " - 2s - loss: 0.0308 - val_loss: 0.0319\n",
      "Epoch 16/50\n",
      " - 2s - loss: 0.0302 - val_loss: 0.0317\n",
      "Epoch 17/50\n",
      " - 2s - loss: 0.0297 - val_loss: 0.0309\n",
      "Epoch 18/50\n",
      " - 2s - loss: 0.0290 - val_loss: 0.0298\n",
      "Epoch 19/50\n",
      " - 2s - loss: 0.0283 - val_loss: 0.0290\n",
      "Epoch 20/50\n",
      " - 2s - loss: 0.0277 - val_loss: 0.0283\n",
      "Epoch 21/50\n",
      " - 2s - loss: 0.0272 - val_loss: 0.0277\n",
      "Epoch 22/50\n",
      " - 2s - loss: 0.0267 - val_loss: 0.0270\n",
      "Epoch 23/50\n",
      " - 2s - loss: 0.0259 - val_loss: 0.0260\n",
      "Epoch 24/50\n",
      " - 2s - loss: 0.0252 - val_loss: 0.0252\n",
      "Epoch 25/50\n",
      " - 2s - loss: 0.0245 - val_loss: 0.0245\n",
      "Epoch 26/50\n",
      " - 2s - loss: 0.0236 - val_loss: 0.0236\n",
      "Epoch 27/50\n",
      " - 2s - loss: 0.0229 - val_loss: 0.0230\n",
      "Epoch 28/50\n",
      " - 2s - loss: 0.0225 - val_loss: 0.0226\n",
      "Epoch 29/50\n",
      " - 2s - loss: 0.0223 - val_loss: 0.0222\n",
      "Epoch 30/50\n",
      " - 2s - loss: 0.0219 - val_loss: 0.0217\n",
      "Epoch 31/50\n",
      " - 2s - loss: 0.0215 - val_loss: 0.0216\n",
      "Epoch 32/50\n",
      " - 2s - loss: 0.0212 - val_loss: 0.0217\n",
      "Epoch 33/50\n",
      " - 2s - loss: 0.0212 - val_loss: 0.0213\n",
      "Epoch 34/50\n",
      " - 2s - loss: 0.0208 - val_loss: 0.0213\n",
      "Epoch 35/50\n",
      " - 2s - loss: 0.0206 - val_loss: 0.0215\n",
      "Epoch 36/50\n",
      " - 2s - loss: 0.0208 - val_loss: 0.0211\n",
      "Epoch 37/50\n",
      " - 2s - loss: 0.0205 - val_loss: 0.0209\n",
      "Epoch 38/50\n",
      " - 2s - loss: 0.0204 - val_loss: 0.0211\n",
      "Epoch 39/50\n",
      " - 2s - loss: 0.0203 - val_loss: 0.0210\n",
      "Epoch 40/50\n",
      " - 2s - loss: 0.0201 - val_loss: 0.0207\n",
      "Epoch 41/50\n",
      " - 2s - loss: 0.0200 - val_loss: 0.0206\n",
      "Epoch 42/50\n",
      " - 3s - loss: 0.0199 - val_loss: 0.0205\n",
      "Epoch 43/50\n",
      " - 2s - loss: 0.0198 - val_loss: 0.0207\n",
      "Epoch 44/50\n",
      " - 2s - loss: 0.0199 - val_loss: 0.0206\n",
      "Epoch 45/50\n",
      " - 2s - loss: 0.0198 - val_loss: 0.0206\n",
      "Epoch 46/50\n",
      " - 2s - loss: 0.0198 - val_loss: 0.0203\n",
      "Epoch 47/50\n",
      " - 2s - loss: 0.0197 - val_loss: 0.0204\n",
      "Epoch 48/50\n",
      " - 2s - loss: 0.0197 - val_loss: 0.0203\n",
      "Epoch 49/50\n",
      " - 2s - loss: 0.0195 - val_loss: 0.0203\n",
      "Epoch 50/50\n",
      " - 2s - loss: 0.0195 - val_loss: 0.0201\n"
     ]
    }
   ],
   "source": [
    "# fit network\n",
    "history = model.fit(train_X, train_Y, epochs=50, batch_size=72, validation_data=(test_X, test_Y), verbose=2, shuffle=False)"
   ]
  },
  {
   "cell_type": "code",
   "execution_count": 412,
   "metadata": {},
   "outputs": [
    {
     "data": {
      "image/png": "[encoded data removed]",
      "text/plain": [
       "<Figure size 432x288 with 1 Axes>"
      ]
     },
     "metadata": {
      "needs_background": "light"
     },
     "output_type": "display_data"
    }
   ],
   "source": [
    "# plot history\n",
    "pyplot.plot(history.history['loss'], label='train')\n",
    "pyplot.plot(history.history['val_loss'], label='test')\n",
    "pyplot.legend()\n",
    "pyplot.show()"
   ]
  },
  {
   "cell_type": "code",
   "execution_count": 413,
   "metadata": {},
   "outputs": [],
   "source": [
    "# make a prediction\n",
    "test_Y_predicted = model.predict(test_X)\n",
    "test_X = test_X.reshape((test_X.shape[0], n_hours*n_features))"
   ]
  },
  {
   "cell_type": "code",
   "execution_count": 414,
   "metadata": {},
   "outputs": [
    {
     "name": "stdout",
     "output_type": "stream",
     "text": [
      "[[0.46693447]\n",
      " [0.54614013]\n",
      " [0.54067385]\n",
      " ...\n",
      " [0.72517693]\n",
      " [0.6847001 ]\n",
      " [0.6831902 ]]\n",
      "[0.5386554  0.53757536 0.5223652  ... 0.7105571  0.70218706 0.68463683]\n"
     ]
    }
   ],
   "source": [
    "print(test_Y_predicted)\n",
    "print(test_Y)"
   ]
  },
  {
   "cell_type": "code",
   "execution_count": 415,
   "metadata": {},
   "outputs": [
    {
     "data": {
      "text/plain": [
       "<matplotlib.legend.Legend at 0x1de762dc630>"
      ]
     },
     "execution_count": 415,
     "metadata": {},
     "output_type": "execute_result"
    },
    {
     "data": {
      "image/png": "[encoded data removed]",
      "text/plain": [
       "<Figure size 432x288 with 1 Axes>"
      ]
     },
     "metadata": {
      "needs_background": "light"
     },
     "output_type": "display_data"
    }
   ],
   "source": [
    "pyplot.plot(test_Y[:100],label=\"Actual\")\n",
    "pyplot.plot(test_Y_predicted[:100],label=\"Predicted\")\n",
    "pyplot.legend()"
   ]
  },
  {
   "cell_type": "code",
   "execution_count": 416,
   "metadata": {},
   "outputs": [
    {
     "name": "stdout",
     "output_type": "stream",
     "text": [
      "[ 7.0006037 11.889793  11.552372  ... 22.941336  20.44279   20.34959  ]\n"
     ]
    }
   ],
   "source": [
    "# invert scaling for forecast\n",
    "vir_array= np.concatenate((test_X[:,-9:-7],test_Y_predicted),axis=1)\n",
    "inv_test_Y_predicted = np.concatenate((vir_array,test_X[:,-6:]),axis=1)\n",
    "inv_test_Y_predicted = scaler.inverse_transform(inv_test_Y_predicted)\n",
    "inv_test_Y_predicted = inv_test_Y_predicted[:,2]\n",
    "print(inv_test_Y_predicted)"
   ]
  },
  {
   "cell_type": "code",
   "execution_count": 417,
   "metadata": {},
   "outputs": [
    {
     "name": "stdout",
     "output_type": "stream",
     "text": [
      "[11.427777 11.361109 10.42222  ... 22.038887 21.522223 20.438887]\n"
     ]
    }
   ],
   "source": [
    "# invert scaling for actual\n",
    "test_Y = test_Y.reshape((len(test_Y), 1))\n",
    "vir_array2= np.concatenate((test_X[:,-9:-7],test_Y),axis=1)\n",
    "inv_test_Y = np.concatenate((vir_array2,test_X[:,-6:]),axis=1)\n",
    "inv_test_Y = scaler.inverse_transform(inv_test_Y)\n",
    "inv_test_Y = inv_test_Y[:,2]\n",
    "print(inv_test_Y)"
   ]
  },
  {
   "cell_type": "code",
   "execution_count": 418,
   "metadata": {},
   "outputs": [
    {
     "data": {
      "text/plain": [
       "<matplotlib.legend.Legend at 0x1de763596a0>"
      ]
     },
     "execution_count": 418,
     "metadata": {},
     "output_type": "execute_result"
    },
    {
     "data": {
      "image/png": "[encoded data removed]",
      "text/plain": [
       "<Figure size 432x288 with 1 Axes>"
      ]
     },
     "metadata": {
      "needs_background": "light"
     },
     "output_type": "display_data"
    }
   ],
   "source": [
    "pyplot.plot(inv_test_Y[:100],label=\"Actual\")\n",
    "pyplot.plot(inv_test_Y_predicted[:100],label=\"Predicted\")\n",
    "pyplot.legend()"
   ]
  },
  {
   "cell_type": "code",
   "execution_count": 419,
   "metadata": {},
   "outputs": [
    {
     "name": "stdout",
     "output_type": "stream",
     "text": [
      "Test RMSE: 1.666\n"
     ]
    }
   ],
   "source": [
    "# calculate RMSE\n",
    "from math import sqrt\n",
    "rmse = sqrt(mean_squared_error(inv_test_Y, inv_test_Y_predicted))\n",
    "print('Test RMSE: %.3f' % rmse)"
   ]
  },
  {
   "cell_type": "code",
   "execution_count": 420,
   "metadata": {},
   "outputs": [],
   "source": [
    "# comparing actual temperature and predicted temperature predicted using data of 3 previous hours\n",
    "df_result=pd.DataFrame({'Actual_Temperature':inv_test_Y,'Predicted_Temperature':inv_test_Y_predicted})"
   ]
  },
  {
   "cell_type": "code",
   "execution_count": 421,
   "metadata": {},
   "outputs": [
    {
     "data": {
      "text/html": [
       "<div>\n",
       "<style scoped>\n",
       "    .dataframe tbody tr th:only-of-type {\n",
       "        vertical-align: middle;\n",
       "    }\n",
       "\n",
       "    .dataframe tbody tr th {\n",
       "        vertical-align: top;\n",
       "    }\n",
       "\n",
       "    .dataframe thead th {\n",
       "        text-align: right;\n",
       "    }\n",
       "</style>\n",
       "<table border=\"1\" class=\"dataframe\">\n",
       "  <thead>\n",
       "    <tr style=\"text-align: right;\">\n",
       "      <th></th>\n",
       "      <th>Actual_Temperature</th>\n",
       "      <th>Predicted_Temperature</th>\n",
       "    </tr>\n",
       "  </thead>\n",
       "  <tbody>\n",
       "    <tr>\n",
       "      <th>0</th>\n",
       "      <td>11.427777</td>\n",
       "      <td>7.000604</td>\n",
       "    </tr>\n",
       "    <tr>\n",
       "      <th>1</th>\n",
       "      <td>11.361109</td>\n",
       "      <td>11.889793</td>\n",
       "    </tr>\n",
       "    <tr>\n",
       "      <th>2</th>\n",
       "      <td>10.422220</td>\n",
       "      <td>11.552372</td>\n",
       "    </tr>\n",
       "    <tr>\n",
       "      <th>3</th>\n",
       "      <td>10.833334</td>\n",
       "      <td>10.277003</td>\n",
       "    </tr>\n",
       "    <tr>\n",
       "      <th>4</th>\n",
       "      <td>10.911113</td>\n",
       "      <td>11.737990</td>\n",
       "    </tr>\n",
       "  </tbody>\n",
       "</table>\n",
       "</div>"
      ],
      "text/plain": [
       "   Actual_Temperature  Predicted_Temperature\n",
       "0           11.427777               7.000604\n",
       "1           11.361109              11.889793\n",
       "2           10.422220              11.552372\n",
       "3           10.833334              10.277003\n",
       "4           10.911113              11.737990"
      ]
     },
     "execution_count": 421,
     "metadata": {},
     "output_type": "execute_result"
    }
   ],
   "source": [
    "df_result.head()"
   ]
  },
  {
   "cell_type": "code",
   "execution_count": null,
   "metadata": {},
   "outputs": [],
   "source": []
  }
 ],
 "metadata": {
  "kernelspec": {
   "display_name": "Python 3",
   "language": "python",
   "name": "python3"
  },
  "language_info": {
   "codemirror_mode": {
    "name": "ipython",
    "version": 3
   },
   "file_extension": ".py",
   "mimetype": "text/x-python",
   "name": "python",
   "nbconvert_exporter": "python",
   "pygments_lexer": "ipython3",
   "version": "3.7.1"
  }
 },
 "nbformat": 4,
 "nbformat_minor": 2
}
